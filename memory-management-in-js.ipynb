{
 "cells": [
  {
   "cell_type": "markdown",
   "metadata": {},
   "source": [
    "## The Hitchhiker's Guide to Memory Management in JavaScript"
   ]
  },
  {
   "cell_type": "markdown",
   "metadata": {},
   "source": [
    "If you're reading this, you've probably just seen my tech talk on memory management in JavaScript. If you haven't you can check out the slides for it [here](http://slides.com/captainsafia/memory-in-javascript).\n",
    "\n",
    "How can you make the most of this tutorial? Grab a cup of coffee, open up your Node interpreter and your Chrome browser and follow along! If you have any questions about the material, feel free to open an issue on [the GitHub repository](https://github.com/captainsafia/memory-management-in-js) for this document."
   ]
  },
  {
   "cell_type": "markdown",
   "metadata": {},
   "source": [
    "### Easy Does It, Grasshopper"
   ]
  },
  {
   "cell_type": "markdown",
   "metadata": {},
   "source": [
    "Alright! Let's get this party started. In the code cell below, print out a scalar data type."
   ]
  },
  {
   "cell_type": "code",
   "execution_count": null,
   "metadata": {
    "collapsed": false
   },
   "outputs": [],
   "source": [
    "console.log(\"Hello, JSConfBP!\");"
   ]
  },
  {
   "cell_type": "markdown",
   "metadata": {},
   "source": [
    "Now let's create a variable that points to a scalar."
   ]
  },
  {
   "cell_type": "code",
   "execution_count": null,
   "metadata": {
    "collapsed": false
   },
   "outputs": [],
   "source": [
    "var str = \"Hello, JSConfBP!\";"
   ]
  },
  {
   "cell_type": "code",
   "execution_count": null,
   "metadata": {
    "collapsed": false
   },
   "outputs": [],
   "source": [
    "console.log(str);"
   ]
  },
  {
   "cell_type": "markdown",
   "metadata": {},
   "source": [
    "### Starting Things Off"
   ]
  },
  {
   "cell_type": "markdown",
   "metadata": {},
   "source": [
    "Now as you will recall from the presentation, scalars like the ones you inputted above are the terminating nodes of the memory heap. That is to say, they don't, and cannot, point to any other scalars on the heap. Now, the next thing we are going to do is write a small program that iterates over a list of numbers from 1 to _x_, applies some mathemtical operations upon them, then returns the sum."
   ]
  },
  {
   "cell_type": "code",
   "execution_count": null,
   "metadata": {
    "collapsed": false
   },
   "outputs": [],
   "source": [
    "var sum = 0;\n",
    "for (var i = 0; i <= 10; i++) {\n",
    "\tvar sum = sum + i;\n",
    "}\n",
    "console.log(sum);"
   ]
  },
  {
   "cell_type": "markdown",
   "metadata": {},
   "source": [
    "Simple enough! Now, let's go ahead and install heapdump on our machine. We're interacting with a Node REPL in this Notebook, so we can install and use Node packages. Alright, so let's install heapdump. You can do so by running `npm install heapdump`. Now that you will need to have Python 2 installed on your machine in order for this library to be installed properly as it required `node-gyp`."
   ]
  },
  {
   "cell_type": "code",
   "execution_count": null,
   "metadata": {
    "collapsed": false
   },
   "outputs": [],
   "source": [
    "var heapdump = require('heapdump');"
   ]
  },
  {
   "cell_type": "markdown",
   "metadata": {},
   "source": [
    "Now that we've installed heapdump, let's create a dump of the heap inside each iteration of the loop and outside it. This will allow us to analzye not only the finally state of the heap, after the program has finished executing, but intermediary states as well."
   ]
  },
  {
   "cell_type": "code",
   "execution_count": null,
   "metadata": {
    "collapsed": false
   },
   "outputs": [],
   "source": [
    "var sum = 0;\n",
    "for (var i = 0; i <= 10; i++) {\n",
    "\tvar sum = sum + i;\n",
    "}\n",
    "console.log(sum);\n",
    "\n",
    "heapdump.writeSnapshot(Date.now() + '-basic.heapsnapshot');"
   ]
  },
  {
   "cell_type": "markdown",
   "metadata": {},
   "source": [
    "In order to analyze this memory dump, you will need to do the following.\n",
    "\n",
    "1. Open Chrome DevTools.\n",
    "2. Navigate to the \"Profiles\" tab and click the \"Load\" button on the bottom right.\n",
    "3. Load the `.heapsnapshot` file that was previously saved.\n",
    "\n",
    "You've now loaded a snapshot of the heap when running your program into the Chrome DevTools profiler. This profiler will show you the shallow size of the objects that have been located, that is the size of the object itself in memory. This tool will also show you the retained size of the objects that you have allocted, that is the size of the object allocated and all objects that depend on it. Here are some things that you should notice.\n",
    "\n",
    "* The retaind and shallow sizes of scalar objects are the same because they do not reference anything else in the heap, meaning they have no dependents.\n",
    "* The shallow sizes of scalar objects are the amount of space that they occupy in memory."
   ]
  },
  {
   "cell_type": "markdown",
   "metadata": {},
   "source": [
    "Now, navigate to the \"Summary\" dropdown at the top of the Chrome DevTools profiler and select \"Statistics\". This will allow you to see a breakdown of the different types of objects that are allocated in the heap. Try to think about the following questions.\n",
    "\n",
    "* What is the total memory that was allocated by the program? Does this make sense given the context?\n",
    "* What types of objects take up the most space? Does this make sense?\n",
    "* What types of objects take up the least space? Does this make sense?"
   ]
  },
  {
   "cell_type": "markdown",
   "metadata": {},
   "source": [
    "### Stepping Up"
   ]
  },
  {
   "cell_type": "markdown",
   "metadata": {},
   "source": [
    "Now let's create another iterator with a little bit more complexity. Namely, we'll do some more math operations and instantiate two variables inside our loop. Check it out below!"
   ]
  },
  {
   "cell_type": "code",
   "execution_count": null,
   "metadata": {
    "collapsed": false
   },
   "outputs": [],
   "source": [
    "var sum = 0;\n",
    "for (var i = 0; i <= 10; i++) {\n",
    "  \tvar square = i * i;\n",
    "  \tvar cube = i * i * i;\n",
    "\tsum = sum + i + cube + square;\n",
    "}\n",
    "console.log(sum);\n",
    "\n",
    "heapdump.writeSnapshot(Date.now() + '-complex.heapsnapshot');"
   ]
  },
  {
   "cell_type": "markdown",
   "metadata": {},
   "source": [
    "Great! Now as before, use the Chrome DevTools profiler to open up this `.heapsnapshot` and explore it. Try to answer the following questions.\n",
    "\n",
    "* How are the objects allocated in this instance different from the ones allocated before?\n",
    "* What can be done to optimize the performance of this application?\n",
    "\n",
    "Now let's start to think about that last question. In the last part of this tutorial, we will try to create a memory-optimized version of the code above. We'll start off by removing the memory declarations inside the loop and moving them into the summation itself. Take a look."
   ]
  },
  {
   "cell_type": "code",
   "execution_count": null,
   "metadata": {
    "collapsed": false
   },
   "outputs": [],
   "source": [
    "var sum = 0;\n",
    "for (var i = 0; i <= 10; i++) {\n",
    "\tsum = sum + i + (i * i * i) + (i * i);\n",
    "}\n",
    "console.log(sum);\n",
    "\n",
    "heapdump.writeSnapshot(Date.now() + '-complex-optimized.heapsnapshot');"
   ]
  },
  {
   "cell_type": "markdown",
   "metadata": {},
   "source": [
    "Now once again, let's load our snapshot file into the Chrome DevTools profiler for analysis. Try and answer the following questions.\n",
    "\n",
    "* How has the amount of memory allocated for Code objects changed from the previous version?\n",
    "* Has the overall memory allocated been reduced at all?"
   ]
  },
  {
   "cell_type": "markdown",
   "metadata": {},
   "source": [
    "### In Conclusion\n",
    "\n",
    "So, in summary, we've learned how to do the following in this tutorial.\n",
    "\n",
    "* Use `node-heapdump` to take a snapshot of the heap in our application.\n",
    "* Open up the `.heapsnapshot` in the Chrome DevTools profiler. \n",
    "* Analyze and interpret allocated memory in the Profiler.\n",
    "* Optimize code and quantify our optimizations by examining the results in the profiler."
   ]
  }
 ],
 "metadata": {
  "kernelspec": {
   "display_name": "Python 3",
   "language": "python",
   "name": "python3"
  },
  "language_info": {
   "codemirror_mode": {
    "name": "ipython",
    "version": 3
   },
   "file_extension": ".py",
   "mimetype": "text/x-python",
   "name": "python",
   "nbconvert_exporter": "python",
   "pygments_lexer": "ipython3",
   "version": "3.5.1"
  }
 },
 "nbformat": 4,
 "nbformat_minor": 1
}
